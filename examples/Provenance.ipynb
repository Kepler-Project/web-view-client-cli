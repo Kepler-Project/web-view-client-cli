{
 "cells": [
  {
   "cell_type": "code",
   "execution_count": 14,
   "metadata": {
    "collapsed": false
   },
   "outputs": [],
   "source": [
    "import sys\n",
    "sys.path.append(\"../app\")\n",
    "\n",
    "from webview import WebView\n",
    "from webview.run import Run\n",
    "from webview.utils import Utils\n",
    "\n",
    "url = 'http://localhost:9122/kepler'\n"
   ]
  },
  {
   "cell_type": "code",
   "execution_count": 17,
   "metadata": {
    "collapsed": false
   },
   "outputs": [
    {
     "data": {
      "text/plain": [
       "{'01-SimpleAddition',\n",
       " '04-HelloWorld',\n",
       " '2014-fires-stations',\n",
       " 'AddProvenanceKeyValues',\n",
       " 'Area',\n",
       " 'ArrayInput',\n",
       " 'BoundingBox',\n",
       " 'BoundingBoxToVector',\n",
       " 'ConvertGeoJsonToShapefile-WGS84',\n",
       " 'ConvertGeoJsonToShapefileReproject',\n",
       " 'ConvertShapefileToGeoJson-WGS84',\n",
       " 'CoverBoundingBox',\n",
       " 'CreateBoundingBox',\n",
       " 'ExportRun',\n",
       " 'FarsiteManual',\n",
       " 'GetPylaskiData',\n",
       " 'GetSharedRuns',\n",
       " 'KMLWriter',\n",
       " 'ListSharedRuns',\n",
       " 'PlotPyaskiData',\n",
       " 'PlotPylaskiData2',\n",
       " 'RandomForest_test',\n",
       " 'RasterReproject',\n",
       " 'ReadGML-EPSG4326',\n",
       " 'ReadGeoJSON-EPSG4326',\n",
       " 'ReadGeoJSON-WGS84',\n",
       " 'ReadKML',\n",
       " 'ReadShapefile-EPSG26911',\n",
       " 'ReadShapefile-WGS84',\n",
       " 'ReadStringGeoJSON-WGS84',\n",
       " 'Reproject',\n",
       " 'ShareFireRun',\n",
       " 'StreamingSinewaveDDP',\n",
       " 'Unnamed2',\n",
       " 'WriteGeoJSON-Reproject-EPSG26911',\n",
       " 'WriteGeoJSON-Reproject-WGS84',\n",
       " 'WriteGeoJSON-WGS84',\n",
       " 'WriteKML',\n",
       " 'WriteShapefile-Reproject-EPSG26911',\n",
       " 'WriteShapefile-Reproject-WGS84',\n",
       " 'WriteShapefile-WGS84',\n",
       " 'centroids',\n",
       " 'cogroup-wordcount',\n",
       " 'exception',\n",
       " 'findcovering',\n",
       " 'make-lcp',\n",
       " 'paramx',\n",
       " 'pylaski-farsite-1',\n",
       " 'pylaski-nearest-latest',\n",
       " 'rickshaw-plot',\n",
       " 'sparksql_kmeans_wifire',\n",
       " 'sql-injection',\n",
       " 'sql-prepstmt',\n",
       " 'ssh-pem',\n",
       " 'sum-display',\n",
       " 'sum-webview1',\n",
       " 'token-format-array-integer',\n",
       " 'token-format-integer-chunkSize',\n",
       " 'webview1'}"
      ]
     },
     "execution_count": 17,
     "metadata": {},
     "output_type": "execute_result"
    }
   ],
   "source": [
    "webview = WebView()\n",
    "\n",
    "# get runs and workflow names\n",
    "runs = webview.runs(url=url, username='crawl')\n",
    "\n",
    "runs.names()"
   ]
  },
  {
   "cell_type": "code",
   "execution_count": 18,
   "metadata": {
    "collapsed": false
   },
   "outputs": [],
   "source": [
    "# load a run\n",
    "\n",
    "run = runs.latest('AddProvenanceKeyValues')"
   ]
  },
  {
   "cell_type": "code",
   "execution_count": 19,
   "metadata": {
    "collapsed": false
   },
   "outputs": [
    {
     "data": {
      "text/plain": [
       "{'activity': {'kepler:a1': {'kepler:actorClass': {'$': 'ptolemy.actor.lib.StringConst',\n",
       "    'type': 'xsd:string'},\n",
       "   'kepler:actorName': {'$': '.AddProvenanceKeyValues.String Constant',\n",
       "    'type': 'xsd:string'},\n",
       "   'kepler:firing': {'$': '0', 'type': 'xsd:int'},\n",
       "   'prov:endTime': '2017-08-11T14:03:54.945-07:00',\n",
       "   'prov:startTime': '2017-08-11T14:03:54.943-07:00'},\n",
       "  'kepler:a2': {'kepler:actorClass': {'$': 'org.kepler.provenance.actor.AddProvenanceKeyValues',\n",
       "    'type': 'xsd:string'},\n",
       "   'kepler:actorName': {'$': '.AddProvenanceKeyValues.AddProvenanceKeyValues',\n",
       "    'type': 'xsd:string'},\n",
       "   'kepler:firing': {'$': '0', 'type': 'xsd:int'},\n",
       "   'prov:endTime': '2017-08-11T14:03:54.952-07:00',\n",
       "   'prov:startTime': '2017-08-11T14:03:54.945-07:00'}},\n",
       " 'agent': {'kepler:user': {'prov:label': 'crawl'}},\n",
       " 'entity': {'kepler:e1': {'kepler:tokenClass': {'$': 'ptolemy.data.StringToken',\n",
       "    'type': 'xsd:string'},\n",
       "   'prov:value': {'$': '1', 'type': 'xsd:string'}},\n",
       "  'kepler:workflow': {'kepler:actorName': {'$': '.AddProvenanceKeyValues',\n",
       "    'type': 'xsd:string'},\n",
       "   'kepler:executionLSID': {'$': 'urn:lsid:uuid:dae23ddf-d638-4dcc-9ca8-e8c8e251403f:382:1',\n",
       "    'type': 'xsd:string'},\n",
       "   'kepler:executionStartTime': {'$': '2017-08-11T14:03:54.870-07:00',\n",
       "    'type': 'xsd:dateTime'},\n",
       "   'kepler:executionStopTime': {'$': '2017-08-11T14:03:54.954-07:00',\n",
       "    'type': 'xsd:dateTime'},\n",
       "   'prov:value': {'$': '<?xml version=\"1.0\" standalone=\"no\"?>\\n<!DOCTYPE entity PUBLIC \"-//UC Berkeley//DTD MoML 1//EN\"\\n    \"http://ptolemy.eecs.berkeley.edu/xml/dtd/MoML_1.dtd\">\\n<entity name=\"AddProvenanceKeyValues\" class=\"org.kepler.moml.CompositeClassEntity\">\\n    <property name=\"entityId\" class=\"org.kepler.moml.NamedObjId\" value=\"urn:lsid:uuid:dae23ddf-d638-4dcc-9ca8-e8c8e251403f:353:14\">\\n    </property>\\n    <property name=\"class\" class=\"ptolemy.kernel.util.StringAttribute\" value=\"ptolemy.actor.TypedCompositeActor\">\\n        <property name=\"id\" class=\"ptolemy.kernel.util.StringAttribute\" value=\"null\">\\n        </property>\\n    </property>\\n    <property name=\"_createdBy\" class=\"ptolemy.kernel.attributes.VersionAttribute\" value=\"11.0.devel\">\\n    </property>\\n    <property name=\"derivedFrom\" class=\"org.kepler.moml.NamedObjIdReferralList\">\\n    </property>\\n    <property name=\"SDF Director\" class=\"ptolemy.domains.sdf.kernel.SDFDirector\">\\n        <property name=\"localClock\" class=\"ptolemy.actor.LocalClock\">\\n            <property name=\"globalTimeResolution\" class=\"ptolemy.actor.parameters.SharedParameter\" value=\"1.0E-10\">\\n            </property>\\n            <property name=\"clockRate\" class=\"ptolemy.data.expr.Parameter\" value=\"1.0\">\\n            </property>\\n        </property>\\n        <property name=\"iterations\" class=\"ptolemy.data.expr.Parameter\" value=\"AUTO\">\\n        </property>\\n        <property name=\"vectorizationFactor\" class=\"ptolemy.data.expr.Parameter\" value=\"1\">\\n        </property>\\n        <property name=\"allowDisconnectedGraphs\" class=\"ptolemy.data.expr.Parameter\" value=\"false\">\\n        </property>\\n        <property name=\"allowRateChanges\" class=\"ptolemy.data.expr.Parameter\" value=\"false\">\\n        </property>\\n        <property name=\"constrainBufferSizes\" class=\"ptolemy.data.expr.Parameter\" value=\"true\">\\n        </property>\\n        <property name=\"period\" class=\"ptolemy.data.expr.Parameter\" value=\"0.0\">\\n        </property>\\n        <property name=\"synchronizeToRealTime\" class=\"ptolemy.data.expr.Parameter\" value=\"false\">\\n        </property>\\n        <property name=\"Scheduler\" class=\"ptolemy.domains.sdf.kernel.SDFScheduler\">\\n            <property name=\"constrainBufferSizes\" class=\"ptolemy.data.expr.Parameter\" value=\"constrainBufferSizes\">\\n            </property>\\n        </property>\\n<property name=\"KeplerDocumentation\" class=\"ptolemy.vergil.basic.KeplerDocumentationAttribute\">\\n<property name=\"description\" class=\"ptolemy.kernel.util.ConfigurableAttribute\"><configure>null</configure></property>\\n<property name=\"author\" class=\"ptolemy.kernel.util.ConfigurableAttribute\"><configure>Steve Neuendorffer</configure></property>\\n<property name=\"version\" class=\"ptolemy.kernel.util.ConfigurableAttribute\"><configure>null</configure></property>\\n<property name=\"userLevelDocumentation\" class=\"ptolemy.kernel.util.ConfigurableAttribute\"><configure>&#10;&lt;p&gt;The SDF Director is often used to oversee fairly simple, sequential workflows in which the director can determine the order of actor invocation from the workflow. Types of workflows that would run well under an SDF Director include processing and reformatting tabular data, converting one data type to another, and reading and plotting a series of data points. A workflow in which an image is read, processed (rotated, scaled, clipped, filtered, etc.), and then displayed, is also an example of a sequential workflow that requires a director simply to ensure that each actor fires in the proper order (i.e., that each actor executes only after it receives its required inputs).&lt;/p&gt;&#10;&#10;&lt;p&gt;The SDF Director is very efficient and will not tax system resources with overhead. However, this efficiency requires that certain conditions be met, namely that the data consumption and production rate of each actor in an SDF workflow be constant and declared. If an actor reads one piece of data and calculates and outputs a single result, it must always read and output a single token of data. This data rate cannot change during workflow execution and, in general, workflows that require dynamic scheduling and/or flow control cannot use this director. Additionally, the SDF Director has no understanding of passing time (at least by default), and actors that depend on a notion of time may not work as expected. For example, a TimedPlotter actor will plot all values at time zero when used in SDF. &lt;/p&gt;&#10;&#10;&lt;p&gt;By default, the SDF Director requires that all actors in its workflow be connected. Otherwise, the director cannot account for concurrency between disconnected workflow parts. Usually, a PN Director should be used for workflows that contain disconnected actors; however, the SDF Director\\'s allowDisconnectedGraphs parameter may also be set to true. The SDF Director will then schedule each disconnected &quot;island&quot; independently. The director cannot infer the sequential relationship between disconnected actors (i.e., nothing forces the director to finish executing all actors on one island before firing actors on another). However, the order of execution within each island should be correct. Usually, disconnected graphs in an SDF model indicate an error.&lt;/p&gt;&#10; &#10;&lt;p&gt;Because SDF Directors schedule actors to fire only after they receive their inputs, workflows that require loops (feeding an actor\\'s output back into its input port for further processing) can cause &quot;deadlock&quot; errors. The deadlock errors occur because the actor depends on its own output value as an initial input. To fix this problem, use a SampleDelay actor to generate and inject an initial input value into the workflow.&lt;/p&gt;&#10;&#10;&lt;p&gt;The SDF Director determines the order in which actors execute and how many times each actor needs to be fired to complete a single iteration of the workflow. This schedule is calculated BEFORE the director begins to iterate the workflow. Because the SDF Director calculates a schedule in advance, it is quite efficient. However, SDF workflows must be static. In other words, the same number of tokens must be consumed/produced at every iteration of the workflow. Workflows that require dynamic control structures, such as a BooleanSwitch actor that sends output on one of two ports depending on the value of a \\'control\\', cannot be used with an SDF Director because the number of tokens on each output can change for each execution.&lt;/p&gt;&#10;&#10;&lt;p&gt;Unless otherwise specified, the SDF Director assumes that each actor consumes and produces exactly one token per channel on each firing. Actors that do not follow the one-token-per-channel firing convention (e.g., Repeat or Ramp) must declare the number of tokens they produce or consume via the appropriate parameters. &lt;/p&gt;&#10;&#10;&lt;p&gt;The number of times a workflow is iterated is controlled by the director\\'s iterations parameter. Since Kepler 2.4, this parameter is set to &quot;AUTO&quot; by default. The director will run the workflow once when it is placed in the top level workflow. When it is placed in a composite actor, the director will keep running the sub-workflow inside of the composite actor until the top level director tells it to stop. In other words, &quot;AUTO&quot; means its value will be &quot;1&quot; when it is placed in the top level workflow, and will be &quot;UNBOUNDED&quot; when it is placed in a composite actor. This default value works for most cases. You can also select &quot;UNBOUNDED&quot; or specify &quot;0&quot; for this parameter, which means the workflow will iterate forever. Concrete numbers can be specified here too for the actual number of times the director should execute the workflow. &lt;/p&gt;&#10;&#10;&lt;p&gt;The amount of data processed by an SDF workflow is a function of both the number of times the workflow iterates and the value of the director\\'s vectorizationFactor parameter. The vectorizationFactor is used to increase the efficiency of a workflow by increasing the number of times actors fire each time the workflow iterates. If the parameter is set to a positive integer (other than 1), the director will fire each actor the specified number of times more than normal. The default is 1, indicating that no vectorization should be performed. Keep in mind that changing the vectorizationFactor parameter changes the meaning of a nested SDF workflow and may cause deadlock in a workflow that uses it. &lt;/p&gt;&#10;&#10;&lt;p&gt;The SDF Director has several advanced parameters that are generally only relevant when an SDF workflow contains composite components. In most cases the period, timeResolution, synchronizeToRealTime, allowRateChanges, timeResolution, and constrainBufferSizes parameters can be left at their default values.&lt;/p&gt;&#10;&#10;&lt;p&gt;For more information about the SDF Director, see the Ptolemy documentation (http://ptolemy.eecs.berkeley.edu/papers/05/ptIIdesign3-domains/ptIIdesign3-domains.pdf).&lt;/p&gt;&#10;&#10;</configure></property>\\n<property name=\"prop:allowDisconnectedGraphs\" class=\"ptolemy.kernel.util.ConfigurableAttribute\"><configure>Specify whether to allow disconnected actors in the workflow (by default, all actors are required to be connected). If disconnected actors are permitted, the SDF Director will schedule each disconnected \\'island\\' independently. Nothing &quot;forces&quot; the director to finish executing all actors on one island before firing actors on another. However, the order of execution within each island should be correct. Usually, disconnected graphs in an SDF workflow indicate an error.</configure></property>\\n<property name=\"prop:allowRateChanges\" class=\"ptolemy.kernel.util.ConfigurableAttribute\"><configure>Specify whether dynamic rate changes are permitted or not. By default, rate changes are not permitted, and the director will perform a check to disallow such workflows. If the parameter is selected, then workflows that require rate parameters to be modified during execution are valid, and the SDF Director will dynamically compute a new schedule at runtime. This is an advanced parameter that can usually be left at its default value.</configure></property>\\n<property name=\"prop:constrainBufferSizes\" class=\"ptolemy.kernel.util.ConfigurableAttribute\"><configure>Specify whether buffer sizes are fixed. By default, buffers are fixed, and attempts to write to the buffer that cause the buffer to exceed its scheduled size result in an error. This is an advanced parameter that can usually be left at its default value.</configure></property>\\n<property name=\"prop:timeResolution\" class=\"ptolemy.kernel.util.ConfigurableAttribute\"><configure>The time precision used by this director. All time values are rounded to the nearest multiple of this number. The value is a double that defaults to &quot;1E-10&quot; (which is 10-10). This is an advanced parameter that can usually be left at its default value.</configure></property>\\n<property name=\"prop:iterations\" class=\"ptolemy.kernel.util.ConfigurableAttribute\"><configure>Specify the number of times a workflow is iterated. Since Kepler 2.4, this parameter is set to &quot;AUTO&quot; by default. The director will run the workflow once when it is placed in the top level workflow. When it is placed in a composite actor, the director will keep running the sub-workflow inside of the composite actor until the top level director tells it to stop. In other words, &quot;AUTO&quot; means its value will be &quot;1&quot; when it is placed in the top level workflow, and will be &quot;UNBOUNDED&quot; when it is placed in a composite actor. This default value works for most cases. You can also select &quot;UNBOUNDED&quot; or specify &quot;0&quot; for this parameter, which means the workflow will iterate forever. Concrete numbers can be specified here too for the actual number of times the director should execute the workflow. </configure></property>\\n<property name=\"prop:vectorizationFactor\" class=\"ptolemy.kernel.util.ConfigurableAttribute\"><configure>The vectorizationFactor is used to increase the efficiency of a workflow by increasing the number of times actors fire each time the workflow iterates. If the parameter is set to a positive integer (other than 1), the director will fire each actor the specified number of times more than normal. The default is 1, indicating that no vectorization should be performed. Keep in mind that changing the vectorizationFactor parameter changes the meaning of a nested SDF workflow and may cause deadlock in a workflow that uses it. </configure></property>\\n<property name=\"prop:synchronizeToRealTime\" class=\"ptolemy.kernel.util.ConfigurableAttribute\"><configure>Specify whether the execution should synchronize to real time or not. By default, the director does not synchronize to real time. If synchronize is selected, the director will only process the workflow when elapsed real time matches the product of the period parameter and the iteration count. Note: if the period parameter has a value of 0.0 (the default), then selecting this parameter has no effect. This is an advanced parameter that can usually be left at its default value.</configure></property>\\n<property name=\"prop:period\" class=\"ptolemy.kernel.util.ConfigurableAttribute\"><configure>The time period of each iteration. The value is a double that defaults to 0.0, which means that the director does not increment workflow time. If the value greater than 0.0, the actor will increment workflow time each time it fires. This is an advanced parameter that can usually be left at its default value. </configure></property>\\n</property>        <property name=\"entityId\" class=\"org.kepler.moml.NamedObjId\" value=\"urn:lsid:kepler-project.org:director:1:2\">\\n        </property>\\n        <property name=\"class\" class=\"ptolemy.kernel.util.StringAttribute\" value=\"ptolemy.domains.sdf.kernel.SDFDirector\">\\n            <property name=\"id\" class=\"ptolemy.kernel.util.StringAttribute\" value=\"urn:lsid:kepler-project.org:directorclass:1:2\">\\n            </property>\\n        </property>\\n        <property name=\"semanticType00\" class=\"org.kepler.sms.SemanticType\" value=\"urn:lsid:localhost:onto:1:1#Director\">\\n        </property>\\n        <property name=\"semanticType11\" class=\"org.kepler.sms.SemanticType\" value=\"urn:lsid:localhost:onto:2:1#Director\">\\n        </property>\\n        <property name=\"_location\" class=\"ptolemy.kernel.util.Location\" value=\"[185.0, 145.0]\">\\n        </property>\\n    </property>\\n    <property name=\"_windowProperties\" class=\"ptolemy.actor.gui.WindowPropertiesAttribute\" value=\"{bounds={326, 73, 1128, 953}, maximized=false}\">\\n    </property>\\n    <property name=\"_vergilSize\" class=\"ptolemy.actor.gui.SizeAttribute\" value=\"[818, 795]\">\\n    </property>\\n    <property name=\"_vergilZoomFactor\" class=\"ptolemy.data.expr.ExpertParameter\" value=\"1.25\">\\n    </property>\\n    <property name=\"_vergilCenter\" class=\"ptolemy.data.expr.ExpertParameter\" value=\"{399.0, 387.5}\">\\n    </property>\\n    <entity name=\"String Constant\" class=\"ptolemy.actor.lib.StringConst\">\\n        <property name=\"value\" class=\"ptolemy.data.expr.Parameter\" value=\"1\">\\n        </property>\\n        <property name=\"firingCountLimit\" class=\"ptolemy.data.expr.Parameter\" value=\"NONE\">\\n        </property>\\n        <property name=\"NONE\" class=\"ptolemy.data.expr.Parameter\" value=\"0\">\\n        </property>\\n<property name=\"KeplerDocumentation\" class=\"ptolemy.vergil.basic.KeplerDocumentationAttribute\">\\n<property name=\"description\" class=\"ptolemy.kernel.util.ConfigurableAttribute\"><configure>null</configure></property>\\n<property name=\"author\" class=\"ptolemy.kernel.util.ConfigurableAttribute\"><configure>Edward Lee</configure></property>\\n<property name=\"version\" class=\"ptolemy.kernel.util.ConfigurableAttribute\"><configure>null</configure></property>\\n<property name=\"userLevelDocumentation\" class=\"ptolemy.kernel.util.ConfigurableAttribute\"><configure>&lt;p&gt;The StringConstant actor outputs a string specified via the actor\\'s value parameter.&lt;/p&gt;&#10;&#10;&lt;p&gt;Specifying strings with the StringConstant actor is convenient, as the actor does not require that strings be surrounded by quotes. The actor is often used to specify file paths, which can be selected using the Browse button available in the actor\\'s parameters.&lt;/p&gt;&#10;&#10;&lt;p&gt;Specified string values can include references to parameters within scope (i.e., parameters defined at the same level of the hierarchy or higher). &lt;/p&gt;&#10;&#10;&lt;p&gt;NOTE: If using a PN Director, the \\'firingCountLimit\\' parameter is often set to a finite integer (e.g. \\'1\\') so that the workflow will terminate. &lt;/p&gt;&#10;&#10;</configure></property>\\n<property name=\"port:output\" class=\"ptolemy.kernel.util.ConfigurableAttribute\"><configure>An output port that broadcasts a string constant specified by the value parameter.  </configure></property>\\n<property name=\"port:trigger\" class=\"ptolemy.kernel.util.ConfigurableAttribute\"><configure>A multiport that has no declared type (in other words, the port can accept any data type: double, int, array, etc.) If the port is connected, the actor will not fire until the trigger port receives an input token. Connecting the port is optional, but useful when scheduling the actor to perform at a certain time. </configure></property>\\n<property name=\"prop:firingCountLimit\" class=\"ptolemy.kernel.util.ConfigurableAttribute\"><configure>The limit on the number of times the actor will fire. The default value is \\'NONE\\', meaning there is no limit on the number of time the constant will be provided to the output port. Any integer can be provided as a value for this parameter.</configure></property>\\n<property name=\"prop:value\" class=\"ptolemy.kernel.util.ConfigurableAttribute\"><configure>The value produced by the actor. Specified strings do not require enclosing quotes. (To include a \\'$\\' sign in the string, enter \\'$$\\'.)</configure></property>\\n</property>        <property name=\"entityId\" class=\"org.kepler.moml.NamedObjId\" value=\"urn:lsid:uuid:dae23ddf-d638-4dcc-9ca8-e8c8e251403f:355:1\">\\n        </property>\\n        <property name=\"class\" class=\"ptolemy.kernel.util.StringAttribute\" value=\"ptolemy.actor.lib.StringConst\">\\n            <property name=\"id\" class=\"ptolemy.kernel.util.StringAttribute\" value=\"urn:lsid:kepler-project.org:class:1052:1\">\\n            </property>\\n        </property>\\n        <property name=\"semanticType00\" class=\"org.kepler.sms.SemanticType\" value=\"urn:lsid:localhost:onto:1:1#StringFunctionActor\">\\n        </property>\\n        <property name=\"semanticType11\" class=\"org.kepler.sms.SemanticType\" value=\"urn:lsid:localhost:onto:2:1#Constant\">\\n        </property>\\n        <property name=\"_icon\" class=\"ptolemy.vergil.icon.BoxedValueIcon\">\\n            <property name=\"attributeName\" class=\"ptolemy.kernel.util.StringAttribute\" value=\"value\">\\n            </property>\\n            <property name=\"displayWidth\" class=\"ptolemy.data.expr.Parameter\" value=\"60\">\\n            </property>\\n        </property>\\n        <property name=\"_location\" class=\"ptolemy.kernel.util.Location\" value=\"[195.0, 255.0]\">\\n        </property>\\n        <property name=\"derivedFrom\" class=\"org.kepler.moml.NamedObjIdReferralList\" value=\"urn:lsid:kepler-project.org:actor:204:1\">\\n        </property>\\n        <port name=\"trigger\" class=\"ptolemy.actor.TypedIOPort\">\\n            <property name=\"input\"/>\\n            <property name=\"multiport\"/>\\n            <property name=\"_showName\" class=\"ptolemy.data.expr.SingletonParameter\" value=\"true\">\\n            </property>\\n        </port>\\n    </entity>\\n    <entity name=\"AddProvenanceKeyValues\" class=\"org.kepler.provenance.actor.AddProvenanceKeyValues\">\\n        <property name=\"exec\" class=\"ptolemy.data.expr.StringParameter\" value=\"/data/home/crawl/repos/kepler/k/provenance/kv.sh\">\\n        </property>\\n        <property name=\"input\" class=\"ptolemy.actor.parameters.PortParameter\" value=\"&quot;1&quot;\">\\n        </property>\\n        <property name=\"_location\" class=\"ptolemy.kernel.util.Location\" value=\"[295.0, 235.0]\">\\n        </property>\\n    </entity>\\n    <relation name=\"relation\" class=\"ptolemy.actor.TypedIORelation\">\\n    </relation>\\n    <link port=\"String Constant.output\" relation=\"relation\"/>\\n    <link port=\"AddProvenanceKeyValues.input\" relation=\"relation\"/>\\n</entity>\\n',\n",
       "    'type': 'xsd:string'}}},\n",
       " 'prefix': {'kepler': 'http://kepler-project.org',\n",
       "  'prov': 'http://www.w3.org/ns/prov#',\n",
       "  'xsd': 'http://www.w3.org/2001/XMLSchema'},\n",
       " 'used': {'_:u1': {'kepler:channel': {'$': '0', 'type': 'xsd:int'},\n",
       "   'prov:activity': 'kepler:a2',\n",
       "   'prov:entity': 'kepler:e1',\n",
       "   'prov:role': {'$': '.AddProvenanceKeyValues.AddProvenanceKeyValues.input',\n",
       "    'type': 'xsd:string'},\n",
       "   'prov:time': '2017-08-11T14:03:54.946-07:00'}},\n",
       " 'wasAssociatedWith': {'kepler:waw1': {'prov:activity': 'kepler:a1',\n",
       "   'prov:agent': 'kepler:user',\n",
       "   'prov:plan': 'kepler:workflow'},\n",
       "  'kepler:waw2': {'prov:activity': 'kepler:a2',\n",
       "   'prov:agent': 'kepler:user',\n",
       "   'prov:plan': 'kepler:workflow'}},\n",
       " 'wasGeneratedBy': {'_:wGB1': {'kepler:channel': {'$': '0', 'type': 'xsd:int'},\n",
       "   'prov:activity': 'kepler:a1',\n",
       "   'prov:entity': 'kepler:e1',\n",
       "   'prov:role': {'$': '.AddProvenanceKeyValues.String Constant.output',\n",
       "    'type': 'xsd:string'},\n",
       "   'prov:time': '2017-08-11T14:03:54.944-07:00'}}}"
      ]
     },
     "execution_count": 19,
     "metadata": {},
     "output_type": "execute_result"
    }
   ],
   "source": [
    "# get the provenance trace (PROV)\n",
    "run.prov()"
   ]
  },
  {
   "cell_type": "code",
   "execution_count": 20,
   "metadata": {
    "collapsed": false
   },
   "outputs": [
    {
     "data": {
      "text/plain": [
       "'prov-default.kar'"
      ]
     },
     "execution_count": 20,
     "metadata": {},
     "output_type": "execute_result"
    }
   ],
   "source": [
    "run.prov(file_name='prov-default.kar')"
   ]
  },
  {
   "cell_type": "code",
   "execution_count": 21,
   "metadata": {
    "collapsed": false
   },
   "outputs": [
    {
     "data": {
      "text/plain": [
       "'workflow.kar'"
      ]
     },
     "execution_count": 21,
     "metadata": {},
     "output_type": "execute_result"
    }
   ],
   "source": [
    "# get the workflow\n",
    "run.workflow('workflow.kar')"
   ]
  },
  {
   "cell_type": "code",
   "execution_count": 26,
   "metadata": {
    "collapsed": false
   },
   "outputs": [
    {
     "data": {
      "image/png": "[encoded data removed]",
      "text/plain": [
       "<IPython.core.display.Image object>"
      ]
     },
     "execution_count": 26,
     "metadata": {
      "image/png": {
       "width": 400
      }
     },
     "output_type": "execute_result"
    }
   ],
   "source": [
    "# get the screenshot\n",
    "\n",
    "filename = run.screenshot()\n",
    "\n",
    "from IPython.display import Image\n",
    "Image(filename, width=400) "
   ]
  },
  {
   "cell_type": "code",
   "execution_count": 23,
   "metadata": {
    "collapsed": false
   },
   "outputs": [
    {
     "data": {
      "text/plain": [
       "{'foo': 'bar', 'x': '1.235813'}"
      ]
     },
     "execution_count": 23,
     "metadata": {},
     "output_type": "execute_result"
    }
   ],
   "source": [
    "run.keys_values()"
   ]
  },
  {
   "cell_type": "code",
   "execution_count": 24,
   "metadata": {
    "collapsed": false
   },
   "outputs": [
    {
     "name": "stdout",
     "output_type": "stream",
     "text": [
      "The bar is 1.235813 meters high.\n"
     ]
    }
   ],
   "source": [
    "text = 'The $foo is $x meters high.'\n",
    "\n",
    "new_text = Utils.template(run, text)\n",
    "print(new_text)"
   ]
  },
  {
   "cell_type": "code",
   "execution_count": 25,
   "metadata": {
    "collapsed": false
   },
   "outputs": [
    {
     "data": {
      "text/plain": [
       "'ro_bundle.zip'"
      ]
     },
     "execution_count": 25,
     "metadata": {},
     "output_type": "execute_result"
    }
   ],
   "source": [
    "run.ro_bundle()"
   ]
  },
  {
   "cell_type": "code",
   "execution_count": null,
   "metadata": {
    "collapsed": true
   },
   "outputs": [],
   "source": []
  }
 ],
 "metadata": {
  "kernelspec": {
   "display_name": "Python 3",
   "language": "python",
   "name": "python3"
  },
  "language_info": {
   "codemirror_mode": {
    "name": "ipython",
    "version": 3
   },
   "file_extension": ".py",
   "mimetype": "text/x-python",
   "name": "python",
   "nbconvert_exporter": "python",
   "pygments_lexer": "ipython3",
   "version": "3.4.3"
  }
 },
 "nbformat": 4,
 "nbformat_minor": 2
}
