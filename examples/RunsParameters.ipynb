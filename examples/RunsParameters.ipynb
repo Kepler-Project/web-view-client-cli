{
 "cells": [
  {
   "cell_type": "code",
   "execution_count": 1,
   "metadata": {
    "collapsed": false
   },
   "outputs": [],
   "source": [
    "import sys\n",
    "sys.path.append(\"../app\")\n",
    "\n",
    "from webview import WebView\n",
    "from webview.run import Run\n",
    "from webview.utils import Utils\n",
    "\n",
    "url = 'https://localhost:9443/kepler'\n",
    "\n",
    "# disable ssl verify warnings\n",
    "import requests\n",
    "requests.packages.urllib3.disable_warnings()"
   ]
  },
  {
   "cell_type": "code",
   "execution_count": 2,
   "metadata": {
    "collapsed": false
   },
   "outputs": [
    {
     "data": {
      "text/plain": [
       "[{'name': 'parameters',\n",
       "  'parameters': {'s': 'hello world', 'x': '1', 'y': '20'}},\n",
       " {'name': 'parameters', 'parameters': {'s': 'goodbye', 'x': '1', 'y': '-20'}},\n",
       " {'name': 'parameters', 'parameters': {'s': 'hello', 'x': '1', 'y': '-20'}},\n",
       " {'name': 'parameters', 'parameters': {'s': 'hello', 'x': '1', 'y': '20'}},\n",
       " {'name': 'parameters', 'parameters': {'s': 'hello', 'x': '2', 'y': '20'}},\n",
       " {'name': 'parameters', 'parameters': {'s': 'hello', 'x': '99', 'y': '20'}}]"
      ]
     },
     "execution_count": 2,
     "metadata": {},
     "output_type": "execute_result"
    }
   ],
   "source": [
    "webview = WebView(username='crawl', password='test', debug=False)\n",
    "\n",
    "# search for workflow named 'parameters'\n",
    "runs = webview.runs(name='parameters')\n",
    "\n",
    "# display parameters used in each workflow run\n",
    "runs.parameters()"
   ]
  },
  {
   "cell_type": "code",
   "execution_count": 3,
   "metadata": {
    "collapsed": false
   },
   "outputs": [
    {
     "data": {
      "text/plain": [
       "[{'name': 'parameters',\n",
       "  'parameters': {'s': 'hello world', 'x': '1', 'y': '20'}},\n",
       " {'name': 'parameters', 'parameters': {'s': 'goodbye', 'x': '1', 'y': '-20'}},\n",
       " {'name': 'parameters', 'parameters': {'s': 'hello', 'x': '1', 'y': '-20'}},\n",
       " {'name': 'parameters', 'parameters': {'s': 'hello', 'x': '1', 'y': '20'}}]"
      ]
     },
     "execution_count": 3,
     "metadata": {},
     "output_type": "execute_result"
    }
   ],
   "source": [
    "# search for single parameter\n",
    "webview.runs(name='parameters', parameters='x == 1').parameters()"
   ]
  },
  {
   "cell_type": "code",
   "execution_count": 4,
   "metadata": {
    "collapsed": false
   },
   "outputs": [
    {
     "data": {
      "text/plain": [
       "[{'name': 'parameters',\n",
       "  'parameters': {'s': 'hello world', 'x': '1', 'y': '20'}},\n",
       " {'name': 'parameters', 'parameters': {'s': 'hello', 'x': '1', 'y': '20'}}]"
      ]
     },
     "execution_count": 4,
     "metadata": {},
     "output_type": "execute_result"
    }
   ],
   "source": [
    "# search for multiple parameters using && or ||\n",
    "webview.runs(name='parameters', parameters='x == 1 && y == 20').parameters()"
   ]
  },
  {
   "cell_type": "code",
   "execution_count": 5,
   "metadata": {
    "collapsed": false
   },
   "outputs": [
    {
     "data": {
      "text/plain": [
       "[{'name': 'parameters', 'parameters': {'s': 'goodbye', 'x': '1', 'y': '-20'}},\n",
       " {'name': 'parameters', 'parameters': {'s': 'hello', 'x': '1', 'y': '-20'}},\n",
       " {'name': 'parameters', 'parameters': {'s': 'hello', 'x': '99', 'y': '20'}}]"
      ]
     },
     "execution_count": 5,
     "metadata": {},
     "output_type": "execute_result"
    }
   ],
   "source": [
    "# search for multiple parameters\n",
    "webview.runs(name='parameters', parameters='y < x').parameters()"
   ]
  },
  {
   "cell_type": "code",
   "execution_count": 6,
   "metadata": {
    "collapsed": false
   },
   "outputs": [
    {
     "data": {
      "text/plain": [
       "[{'name': 'parameters', 'parameters': {'s': 'hello', 'x': '1', 'y': '-20'}},\n",
       " {'name': 'parameters', 'parameters': {'s': 'hello', 'x': '1', 'y': '20'}},\n",
       " {'name': 'parameters', 'parameters': {'s': 'hello', 'x': '2', 'y': '20'}},\n",
       " {'name': 'parameters', 'parameters': {'s': 'hello', 'x': '99', 'y': '20'}}]"
      ]
     },
     "execution_count": 6,
     "metadata": {},
     "output_type": "execute_result"
    }
   ],
   "source": [
    "# search for string parameters\n",
    "webview.runs(name='parameters', parameters='s.equals(\"hello\")').parameters()"
   ]
  },
  {
   "cell_type": "code",
   "execution_count": 7,
   "metadata": {
    "collapsed": false
   },
   "outputs": [
    {
     "data": {
      "text/plain": [
       "[{'name': 'parameters', 'parameters': {'s': 'hello', 'x': '1', 'y': '-20'}}]"
      ]
     },
     "execution_count": 7,
     "metadata": {},
     "output_type": "execute_result"
    }
   ],
   "source": [
    "# search for multiple parameters of different types\n",
    "webview.runs(name='parameters', parameters='s.equals(\"hello\") && x + y == -19').parameters()"
   ]
  },
  {
   "cell_type": "code",
   "execution_count": null,
   "metadata": {
    "collapsed": true
   },
   "outputs": [],
   "source": []
  }
 ],
 "metadata": {
  "kernelspec": {
   "display_name": "Python 3",
   "language": "python",
   "name": "python3"
  },
  "language_info": {
   "codemirror_mode": {
    "name": "ipython",
    "version": 3
   },
   "file_extension": ".py",
   "mimetype": "text/x-python",
   "name": "python",
   "nbconvert_exporter": "python",
   "pygments_lexer": "ipython3",
   "version": "3.4.3"
  }
 },
 "nbformat": 4,
 "nbformat_minor": 2
}
